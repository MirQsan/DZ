{
 "cells": [
  {
   "attachments": {},
   "cell_type": "markdown",
   "metadata": {},
   "source": [
    "Задание №4\n",
    "\n",
    "Реализовать программное средство для представления IP адресов с\n",
    "десятичного и двоичного кодирования. В качестве входных данных задается\n",
    "десятичное представление IP адреса, программное средство выдает двоичное\n",
    "представление или пользователь может ввести двоичное представление IP\n",
    "адреса и получить десятичное представление."
   ]
  },
  {
   "cell_type": "code",
   "execution_count": 5,
   "metadata": {},
   "outputs": [
    {
     "name": "stdout",
     "output_type": "stream",
     "text": [
      "11111111.11111111.11111111.00000000\n"
     ]
    }
   ],
   "source": [
    "from netaddr import IPAddress\n",
    "a = int(input('Что вы хотите сделать?\\nХотите перевести IP из десятичной в двоичную(пропишите 1):\\nХотите перевести IP из двоичной в дясятичную(пропишите 2): '))\n",
    "if a == 1:\n",
    "    IP_vvod_1 = str(input('ВВедите IP: '))\n",
    "    IP_new_2 = IPAddress(IP_vvod_1)\n",
    "    print(IP_new_2.bits())\n",
    "elif a == 2:\n",
    "    IP_vvod_2 = str(input('ВВедите IP: ')).split('.')\n",
    "    IP_new_10 = [int(i,2) for i in IP_vvod_2]\n",
    "    print(*IP_new_10, sep = '.')\n"
   ]
  },
  {
   "attachments": {},
   "cell_type": "markdown",
   "metadata": {},
   "source": [
    "Задание №5\n",
    "\n",
    "Реализовать программное средство, способное определять класс сети,\n",
    "начальный и конечный адрес и маску подсети, на основании заданного IP\n",
    "адреса."
   ]
  },
  {
   "cell_type": "code",
   "execution_count": 18,
   "metadata": {},
   "outputs": [
    {
     "data": {
      "text/plain": [
       "IPAddress('255.255.255.255')"
      ]
     },
     "execution_count": 18,
     "metadata": {},
     "output_type": "execute_result"
    }
   ],
   "source": [
    "from netaddr import *\n",
    "import pprint\n",
    "\n",
    "ip = IPNetwork('192.0.2.1')\n",
    "ip.netmask"
   ]
  },
  {
   "cell_type": "code",
   "execution_count": 34,
   "metadata": {},
   "outputs": [
    {
     "name": "stdout",
     "output_type": "stream",
     "text": [
      "['150', '0', '0', '0']\n",
      "Класс В\n"
     ]
    }
   ],
   "source": [
    "from netaddr import *\n",
    "import pprint\n",
    "\n",
    "a = str(input(\"ВВедите IP: \"))\n",
    "ip = IPNetwork(a)\n",
    "a1 = a.split('.')\n",
    "print(a1)\n",
    "if int(a1[0]) >= 0 and int(a1[0]) <= 127:\n",
    "    n_m = ip.netmask\n",
    "    print(\"Класс А\")\n",
    "elif int(a1[0]) >= 128 and int(a1[0]) <= 191:\n",
    "    print(\"Класс В\")\n",
    "elif int(a1[0]) >= 192 and int(a1[0]) <= 223:\n",
    "    print(\"Класс С\")\n",
    "elif int(a1[0]) >= 224 and int(a1[0]) <= 239:\n",
    "    print(\"Класс Д\")\n",
    "elif int(a1[0]) >= 240 and int(a1[0]) <= 255:\n",
    "    print(\"Класс Е\")"
   ]
  },
  {
   "cell_type": "code",
   "execution_count": null,
   "metadata": {},
   "outputs": [],
   "source": []
  }
 ],
 "metadata": {
  "kernelspec": {
   "display_name": "Python 3",
   "language": "python",
   "name": "python3"
  },
  "language_info": {
   "codemirror_mode": {
    "name": "ipython",
    "version": 3
   },
   "file_extension": ".py",
   "mimetype": "text/x-python",
   "name": "python",
   "nbconvert_exporter": "python",
   "pygments_lexer": "ipython3",
   "version": "3.11.1"
  },
  "orig_nbformat": 4,
  "vscode": {
   "interpreter": {
    "hash": "0de6bac5783c631c6d9ce213cd07c850c0d5af614420fbca182ab1ec47feb25e"
   }
  }
 },
 "nbformat": 4,
 "nbformat_minor": 2
}
