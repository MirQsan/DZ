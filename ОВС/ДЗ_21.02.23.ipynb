{
 "cells": [
  {
   "attachments": {},
   "cell_type": "markdown",
   "metadata": {},
   "source": [
    "Задание №4\n",
    "\n",
    "Реализовать программное средство для представления IP адресов с\n",
    "десятичного и двоичного кодирования. В качестве входных данных задается\n",
    "десятичное представление IP адреса, программное средство выдает двоичное\n",
    "представление или пользователь может ввести двоичное представление IP\n",
    "адреса и получить десятичное представление."
   ]
  },
  {
   "cell_type": "code",
   "execution_count": 6,
   "metadata": {},
   "outputs": [
    {
     "name": "stdout",
     "output_type": "stream",
     "text": [
      "\n"
     ]
    }
   ],
   "source": [
    "IP_vvod = str(input())\n",
    "IP_number = IP_vvod.replace('.', ' ')\n",
    "print(IP_number)\n"
   ]
  },
  {
   "cell_type": "code",
   "execution_count": 1,
   "metadata": {},
   "outputs": [
    {
     "name": "stdout",
     "output_type": "stream",
     "text": [
      "255.255.255.0\n",
      "okk\n"
     ]
    }
   ],
   "source": [
    "from netaddr import IPAddress\n",
    "a = int(input('Что вы хотите сделать?\\nХотите перевести IP из десятичной в двоичную(пропишите 1):\\nХотите перевести IP из двоичной в дясятичную(пропишите 2): '))\n",
    "if a == 1:\n",
    "    IP_vvod_1 = str(input('ВВедите IP: '))\n",
    "    IP_new_2 = IPAddress(IP_vvod_1)\n",
    "    print(IP_new_2.bits())\n",
    "elif a == 2:\n",
    "    IP_vvod_2 = str(input('ВВедите IP: '))\n",
    "    IP_new_10 = IPAddress(IP_vvod_2)\n",
    "    print(IP_new_10)\n",
    "    \n",
    "print('okk')\n"
   ]
  },
  {
   "cell_type": "code",
   "execution_count": 40,
   "metadata": {},
   "outputs": [
    {
     "name": "stdout",
     "output_type": "stream",
     "text": [
      "255.255.255.0\n"
     ]
    }
   ],
   "source": [
    "IP = '11111111.11111111.11111111.00000000'.split('.')\n",
    "ip1 = [int(i,2) for i in IP]\n",
    "print(*ip1,sep='.')"
   ]
  }
 ],
 "metadata": {
  "kernelspec": {
   "display_name": "Python 3",
   "language": "python",
   "name": "python3"
  },
  "language_info": {
   "codemirror_mode": {
    "name": "ipython",
    "version": 3
   },
   "file_extension": ".py",
   "mimetype": "text/x-python",
   "name": "python",
   "nbconvert_exporter": "python",
   "pygments_lexer": "ipython3",
   "version": "3.10.7"
  },
  "orig_nbformat": 4,
  "vscode": {
   "interpreter": {
    "hash": "3e5dc96c005a9658d7ba102f47fc0486cb536325cb530a491e65d615d9e731e7"
   }
  }
 },
 "nbformat": 4,
 "nbformat_minor": 2
}
