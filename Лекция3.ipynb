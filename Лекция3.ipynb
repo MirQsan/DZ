{
 "cells": [
  {
   "attachments": {},
   "cell_type": "markdown",
   "metadata": {},
   "source": [
    "Базовые работы с файловой системой в Python"
   ]
  },
  {
   "cell_type": "code",
   "execution_count": null,
   "metadata": {},
   "outputs": [],
   "source": [
    "ls"
   ]
  },
  {
   "cell_type": "code",
   "execution_count": 2,
   "metadata": {},
   "outputs": [],
   "source": [
    "#базовый модуль для работы с функциями опреционной системы, в т.ч. работы с файловой системой\n",
    "import os\n",
    "#модуль реализирующий функциями работы с путями в файловой системе\n",
    "import os.path"
   ]
  },
  {
   "cell_type": "code",
   "execution_count": 3,
   "metadata": {},
   "outputs": [
    {
     "data": {
      "text/plain": [
       "'c:\\\\Users\\\\mirqa\\\\OneDrive\\\\Документы\\\\GitHub\\\\DZ'"
      ]
     },
     "execution_count": 3,
     "metadata": {},
     "output_type": "execute_result"
    }
   ],
   "source": [
    "#текущая рабочая дерикория\n",
    "cwd = os.getcwd()\n",
    "cwd"
   ]
  },
  {
   "cell_type": "code",
   "execution_count": 5,
   "metadata": {},
   "outputs": [
    {
     "data": {
      "text/plain": [
       "'c:\\\\Users\\\\mirqa\\\\OneDrive\\\\Документы\\\\GitHub\\\\DZ'"
      ]
     },
     "execution_count": 5,
     "metadata": {},
     "output_type": "execute_result"
    }
   ],
   "source": [
    "#изменение текущей директории\n",
    "os.chdir('.')  #. - текущая директория; .. - родительская\n",
    "cwd2 = os.getcwd()\n",
    "cwd2"
   ]
  },
  {
   "cell_type": "code",
   "execution_count": 6,
   "metadata": {},
   "outputs": [
    {
     "data": {
      "text/plain": [
       "['README.md', 'Лекция3.ipynb']"
      ]
     },
     "execution_count": 6,
     "metadata": {},
     "output_type": "execute_result"
    }
   ],
   "source": [
    "#получение списка директориий по определенному пути\n",
    "from os import listdir\n",
    "from os.path import isfile, join\n",
    "\n",
    "#listdir - (ls) получение содержимого директории\n",
    "#isfile - проверка, является ли объект файлом или директорией\n",
    "#join - корректный (инвариантный относительно ОС) способ конкатенации пути к файлу и имени файла\n",
    "onlyfiles = [f for f in listdir(cwd2) if isfile(join(cwd2, f))]\n",
    "onlyfiles"
   ]
  },
  {
   "cell_type": "code",
   "execution_count": 10,
   "metadata": {},
   "outputs": [
    {
     "name": "stdout",
     "output_type": "stream",
     "text": [
      "c:\\Users\\mirqa\\OneDrive\\Документы\\GitHub\\DZ, dirs: ['.git', 'АиСД_ДЗ', 'ОВС', 'Практикум по проге', 'ТОД'], files: ['README.md', 'Лекция3.ipynb']\n",
      "c:\\Users\\mirqa\\OneDrive\\Документы\\GitHub\\DZ\\.git, dirs: ['hooks', 'info', 'logs', 'objects', 'refs'], files: ['COMMIT_EDITMSG', 'config', 'description', 'FETCH_HEAD', 'HEAD', 'index', 'ORIG_HEAD', 'packed-refs']\n",
      "c:\\Users\\mirqa\\OneDrive\\Документы\\GitHub\\DZ\\.git\\hooks, dirs: [], files: ['applypatch-msg.sample', 'commit-msg.sample', 'fsmonitor-watchman.sample', 'post-update.sample', 'pre-applypatch.sample', 'pre-commit.sample', 'pre-merge-commit.sample', 'pre-push.sample', 'pre-rebase.sample', 'pre-receive.sample', 'prepare-commit-msg.sample', 'push-to-checkout.sample', 'update.sample']\n",
      "c:\\Users\\mirqa\\OneDrive\\Документы\\GitHub\\DZ\\.git\\info, dirs: [], files: ['exclude']\n",
      "c:\\Users\\mirqa\\OneDrive\\Документы\\GitHub\\DZ\\.git\\logs, dirs: ['refs'], files: ['HEAD']\n",
      "c:\\Users\\mirqa\\OneDrive\\Документы\\GitHub\\DZ\\.git\\logs\\refs, dirs: ['heads', 'remotes'], files: []\n",
      "c:\\Users\\mirqa\\OneDrive\\Документы\\GitHub\\DZ\\.git\\logs\\refs\\heads, dirs: [], files: ['main']\n",
      "c:\\Users\\mirqa\\OneDrive\\Документы\\GitHub\\DZ\\.git\\logs\\refs\\remotes, dirs: ['origin'], files: []\n",
      "c:\\Users\\mirqa\\OneDrive\\Документы\\GitHub\\DZ\\.git\\logs\\refs\\remotes\\origin, dirs: [], files: ['HEAD', 'main']\n",
      "c:\\Users\\mirqa\\OneDrive\\Документы\\GitHub\\DZ\\.git\\objects, dirs: ['05', '07', '08', '0c', '1a', '2e', '2f', '35', '3a', '42', '45', '4b', '52', '5d', '5e', '68', '69', '6a', '6b', '7d', '86', '87', '8c', '8e', '90', '91', 'a1', 'bc', 'be', 'c9', 'cc', 'cf', 'd2', 'd7', 'dd', 'e1', 'e6', 'f1', 'f3', 'info', 'pack'], files: []\n",
      "c:\\Users\\mirqa\\OneDrive\\Документы\\GitHub\\DZ\\.git\\objects\\05, dirs: [], files: ['10dcd1e22995482478c8ea3d7e186685b81911']\n",
      "c:\\Users\\mirqa\\OneDrive\\Документы\\GitHub\\DZ\\.git\\objects\\07, dirs: [], files: ['871cea6fa2d7dea3b4a64d70828118640700be']\n",
      "c:\\Users\\mirqa\\OneDrive\\Документы\\GitHub\\DZ\\.git\\objects\\08, dirs: [], files: ['c367916c0fbc146859ab843e92063341203252']\n",
      "c:\\Users\\mirqa\\OneDrive\\Документы\\GitHub\\DZ\\.git\\objects\\0c, dirs: [], files: ['57fda7d877b8fa688303ed77bf0ccb66198854']\n",
      "c:\\Users\\mirqa\\OneDrive\\Документы\\GitHub\\DZ\\.git\\objects\\1a, dirs: [], files: ['c19058f52f76ef5b8784adba6b84705739182e']\n",
      "c:\\Users\\mirqa\\OneDrive\\Документы\\GitHub\\DZ\\.git\\objects\\2e, dirs: [], files: ['a4c6499a22c3016f27b72c20e6fc1c7c27c371']\n",
      "c:\\Users\\mirqa\\OneDrive\\Документы\\GitHub\\DZ\\.git\\objects\\2f, dirs: [], files: ['50f0b39a06baa4a9bffa4be6988d8bf8d69b7a']\n",
      "c:\\Users\\mirqa\\OneDrive\\Документы\\GitHub\\DZ\\.git\\objects\\35, dirs: [], files: ['22e5bcf0063a836fe748d44a0388193119f3a5']\n",
      "c:\\Users\\mirqa\\OneDrive\\Документы\\GitHub\\DZ\\.git\\objects\\3a, dirs: [], files: ['cf1b95019d0ff52ab8a96f7244eb737d2e0a17']\n",
      "c:\\Users\\mirqa\\OneDrive\\Документы\\GitHub\\DZ\\.git\\objects\\42, dirs: [], files: ['a943fa02153fde79790042d0745a9bc4b9e688']\n",
      "c:\\Users\\mirqa\\OneDrive\\Документы\\GitHub\\DZ\\.git\\objects\\45, dirs: [], files: ['4e024456b500fbc8fb31ec929d197397a73474', 'e15cb552edbec04718631746b2261217517819']\n",
      "c:\\Users\\mirqa\\OneDrive\\Документы\\GitHub\\DZ\\.git\\objects\\4b, dirs: [], files: ['9e2af02bfb4a63837383c6cf7118d39a967d07']\n",
      "c:\\Users\\mirqa\\OneDrive\\Документы\\GitHub\\DZ\\.git\\objects\\52, dirs: [], files: ['5af597bb86fd6f851d7f7cf6bb721ac0566be2', 'b29133d960f8679dcd4eeb0d3828234885bcf9']\n",
      "c:\\Users\\mirqa\\OneDrive\\Документы\\GitHub\\DZ\\.git\\objects\\5d, dirs: [], files: ['37ac20079b9e0cd71b02ecf9204bc91106aced']\n",
      "c:\\Users\\mirqa\\OneDrive\\Документы\\GitHub\\DZ\\.git\\objects\\5e, dirs: [], files: ['58ed0312435d68556a3caaa82c461252d6ba07']\n",
      "c:\\Users\\mirqa\\OneDrive\\Документы\\GitHub\\DZ\\.git\\objects\\68, dirs: [], files: ['f44e4ba227b1dd5f2bbd15b340ec848677f5b9']\n",
      "c:\\Users\\mirqa\\OneDrive\\Документы\\GitHub\\DZ\\.git\\objects\\69, dirs: [], files: ['8ddb4bcfbfc323e4f183355fb5e759bf95b2c1']\n",
      "c:\\Users\\mirqa\\OneDrive\\Документы\\GitHub\\DZ\\.git\\objects\\6a, dirs: [], files: ['d1cbefbcd86c08e98113305a89a72266b1d229']\n",
      "c:\\Users\\mirqa\\OneDrive\\Документы\\GitHub\\DZ\\.git\\objects\\6b, dirs: [], files: ['22d4a848432b0c440fe7cb401101f1ee67c407']\n",
      "c:\\Users\\mirqa\\OneDrive\\Документы\\GitHub\\DZ\\.git\\objects\\7d, dirs: [], files: ['834e2eecdd8f36e05da7f63b89b819695cef34']\n",
      "c:\\Users\\mirqa\\OneDrive\\Документы\\GitHub\\DZ\\.git\\objects\\86, dirs: [], files: ['bb568bd2678b973f594344c586921b371a65ff']\n",
      "c:\\Users\\mirqa\\OneDrive\\Документы\\GitHub\\DZ\\.git\\objects\\87, dirs: [], files: ['50b3e0019c0076a61fadb321ec412d7704157b']\n",
      "c:\\Users\\mirqa\\OneDrive\\Документы\\GitHub\\DZ\\.git\\objects\\8c, dirs: [], files: ['81a7c3183e58aa73493fe6e8bb2e0951984b29']\n",
      "c:\\Users\\mirqa\\OneDrive\\Документы\\GitHub\\DZ\\.git\\objects\\8e, dirs: [], files: ['15ab8744038e7808a1bfe4bdb79024f4fdb3d9']\n",
      "c:\\Users\\mirqa\\OneDrive\\Документы\\GitHub\\DZ\\.git\\objects\\90, dirs: [], files: ['69aa99fd8acb363cb8362d6bd448b2b65994dc']\n",
      "c:\\Users\\mirqa\\OneDrive\\Документы\\GitHub\\DZ\\.git\\objects\\91, dirs: [], files: ['bb956a0723eac72a8fdc37b5305b7655aa97d3']\n",
      "c:\\Users\\mirqa\\OneDrive\\Документы\\GitHub\\DZ\\.git\\objects\\a1, dirs: [], files: ['b69cb34ba28ca48cdc582c00eb2292697fe45a']\n",
      "c:\\Users\\mirqa\\OneDrive\\Документы\\GitHub\\DZ\\.git\\objects\\bc, dirs: [], files: ['bcffb002f24354351a15c19dcddf7e2f0ba1d9']\n",
      "c:\\Users\\mirqa\\OneDrive\\Документы\\GitHub\\DZ\\.git\\objects\\be, dirs: [], files: ['8124f2f423452736318ac29ad2eaf9b6a9b949']\n",
      "c:\\Users\\mirqa\\OneDrive\\Документы\\GitHub\\DZ\\.git\\objects\\c9, dirs: [], files: ['fd0444dcfdbd4e6d20c78e853771d0517d2a0d']\n",
      "c:\\Users\\mirqa\\OneDrive\\Документы\\GitHub\\DZ\\.git\\objects\\cc, dirs: [], files: ['781a5b3f7fea2290addf8f471ee641aea3b218']\n",
      "c:\\Users\\mirqa\\OneDrive\\Документы\\GitHub\\DZ\\.git\\objects\\cf, dirs: [], files: ['cd8aff41a88315c93d5b4cbe82b6d11f61340f']\n",
      "c:\\Users\\mirqa\\OneDrive\\Документы\\GitHub\\DZ\\.git\\objects\\d2, dirs: [], files: ['ae48a8ff3e17ae071b75d1ffccf045df748bce']\n",
      "c:\\Users\\mirqa\\OneDrive\\Документы\\GitHub\\DZ\\.git\\objects\\d7, dirs: [], files: ['1f65e7d10530d1f3f8ec2512baaf78bdba689e']\n",
      "c:\\Users\\mirqa\\OneDrive\\Документы\\GitHub\\DZ\\.git\\objects\\dd, dirs: [], files: ['0f4a50cc5df6e01b32497bed92f206442cf1b3']\n",
      "c:\\Users\\mirqa\\OneDrive\\Документы\\GitHub\\DZ\\.git\\objects\\e1, dirs: [], files: ['6028a8d949a18288ac1ec277ae986e5ea5b8f7']\n",
      "c:\\Users\\mirqa\\OneDrive\\Документы\\GitHub\\DZ\\.git\\objects\\e6, dirs: [], files: ['9de29bb2d1d6434b8b29ae775ad8c2e48c5391']\n",
      "c:\\Users\\mirqa\\OneDrive\\Документы\\GitHub\\DZ\\.git\\objects\\f1, dirs: [], files: ['92b077b5cde38a97e54cc5b2e5327832433777']\n",
      "c:\\Users\\mirqa\\OneDrive\\Документы\\GitHub\\DZ\\.git\\objects\\f3, dirs: [], files: ['888e37acc6bc582559fbe8f6882fbe36febbdc']\n",
      "c:\\Users\\mirqa\\OneDrive\\Документы\\GitHub\\DZ\\.git\\objects\\info, dirs: [], files: []\n",
      "c:\\Users\\mirqa\\OneDrive\\Документы\\GitHub\\DZ\\.git\\objects\\pack, dirs: [], files: ['pack-b8b8f553f927e586cddabfc7924042eb1762558a.idx', 'pack-b8b8f553f927e586cddabfc7924042eb1762558a.pack']\n",
      "c:\\Users\\mirqa\\OneDrive\\Документы\\GitHub\\DZ\\.git\\refs, dirs: ['heads', 'remotes', 'tags'], files: []\n",
      "c:\\Users\\mirqa\\OneDrive\\Документы\\GitHub\\DZ\\.git\\refs\\heads, dirs: [], files: ['main']\n",
      "c:\\Users\\mirqa\\OneDrive\\Документы\\GitHub\\DZ\\.git\\refs\\remotes, dirs: ['origin'], files: []\n",
      "c:\\Users\\mirqa\\OneDrive\\Документы\\GitHub\\DZ\\.git\\refs\\remotes\\origin, dirs: [], files: ['HEAD', 'main']\n",
      "c:\\Users\\mirqa\\OneDrive\\Документы\\GitHub\\DZ\\.git\\refs\\tags, dirs: [], files: []\n",
      "c:\\Users\\mirqa\\OneDrive\\Документы\\GitHub\\DZ\\АиСД_ДЗ, dirs: [], files: ['ДЗ_АиСД_№1.ipynb']\n",
      "c:\\Users\\mirqa\\OneDrive\\Документы\\GitHub\\DZ\\ОВС, dirs: [], files: ['ДЗ_21.02.23.ipynb']\n",
      "c:\\Users\\mirqa\\OneDrive\\Документы\\GitHub\\DZ\\Практикум по проге, dirs: [], files: ['Новый текстовый документ.txt']\n",
      "c:\\Users\\mirqa\\OneDrive\\Документы\\GitHub\\DZ\\ТОД, dirs: [], files: ['Новый текстовый документ.txt']\n"
     ]
    }
   ],
   "source": [
    "#рекурсивный обход дочерних директорий и файлов в них\n",
    "for root, dirs, files in os.walk(cwd2):\n",
    "    print(f\"{root}, dirs: {dirs}, files: {files}\")"
   ]
  },
  {
   "cell_type": "code",
   "execution_count": null,
   "metadata": {},
   "outputs": [],
   "source": [
    "os.getcwd()  #получение текущего пути\n",
    "os.chdir() #изменение текущего пути\n",
    "os.mkdir() #создание новой директории\n",
    "os.rename() #преименование директории\n",
    "os.rmdir() #удаление директории\n",
    "os.walk() #получение содержимого директории"
   ]
  },
  {
   "attachments": {},
   "cell_type": "markdown",
   "metadata": {},
   "source": [
    "Передача файла по сети"
   ]
  },
  {
   "cell_type": "code",
   "execution_count": 11,
   "metadata": {},
   "outputs": [],
   "source": [
    "#через пип установить\n",
    "#pip install webdavclient3"
   ]
  },
  {
   "cell_type": "code",
   "execution_count": null,
   "metadata": {},
   "outputs": [],
   "source": [
    "from webdav3.client import Client\n"
   ]
  },
  {
   "cell_type": "code",
   "execution_count": null,
   "metadata": {},
   "outputs": [],
   "source": [
    "#настраиваем параемтры подключения\n",
    "options = {\n",
    "    'webdav_hostanme' : \"https://webdav.cloud.mail.ru\",\n",
    "    'webdav_login' : \"svm_webdav@mail.ru\",\n",
    "    'webdav_password' : \"тут пароль\"\n",
    "}"
   ]
  },
  {
   "cell_type": "code",
   "execution_count": null,
   "metadata": {},
   "outputs": [],
   "source": [
    "with open(\"pwd.txt\", \"r\") as f:\n",
    "    for line in f:\n",
    "        pwd = line\n",
    "\n",
    "options['webdav_password'] = pwd"
   ]
  },
  {
   "cell_type": "code",
   "execution_count": null,
   "metadata": {},
   "outputs": [],
   "source": [
    "client = Client(options)"
   ]
  },
  {
   "cell_type": "code",
   "execution_count": null,
   "metadata": {},
   "outputs": [],
   "source": [
    "#Получить содержимое папки\n",
    "client.list('/my_cloud_data/')"
   ]
  },
  {
   "cell_type": "code",
   "execution_count": null,
   "metadata": {},
   "outputs": [],
   "source": [
    "#Скопировать папку удаленно в облаке (без скачивания на локальный компьютер):\n",
    "client.copy(remote_path_from=\"/my_cloud_data\", remote_path_to='/my_cloud_data2')"
   ]
  },
  {
   "cell_type": "code",
   "execution_count": null,
   "metadata": {},
   "outputs": [],
   "source": [
    "client.list('/my_cloud_data2/')"
   ]
  },
  {
   "cell_type": "code",
   "execution_count": null,
   "metadata": {},
   "outputs": [],
   "source": [
    "#Скачать файл на локальный компьютер:\n",
    "client.download(remote_path= '/my_cloud_data/adres-book.json', local_path='adres-book.json')"
   ]
  },
  {
   "cell_type": "code",
   "execution_count": null,
   "metadata": {},
   "outputs": [],
   "source": [
    "ls"
   ]
  },
  {
   "cell_type": "code",
   "execution_count": null,
   "metadata": {},
   "outputs": [],
   "source": [
    "#загрузить файл с локального компьютера в облако\n",
    "client.upload(remote_path='/adres-book.json', local_path='adres-book.json')"
   ]
  },
  {
   "cell_type": "code",
   "execution_count": null,
   "metadata": {},
   "outputs": [],
   "source": [
    "client.list('/')"
   ]
  },
  {
   "attachments": {},
   "cell_type": "markdown",
   "metadata": {},
   "source": [
    "Сериализация данных, форматы Pickle и JSON"
   ]
  },
  {
   "attachments": {},
   "cell_type": "markdown",
   "metadata": {},
   "source": [
    "Формат Pickle"
   ]
  },
  {
   "cell_type": "code",
   "execution_count": 12,
   "metadata": {},
   "outputs": [],
   "source": [
    "#объект (данные) для сохранения\n",
    "dat1 = [\"Строка\", (12,3)]"
   ]
  },
  {
   "cell_type": "code",
   "execution_count": 13,
   "metadata": {},
   "outputs": [],
   "source": [
    "import pickle"
   ]
  },
  {
   "cell_type": "code",
   "execution_count": 15,
   "metadata": {},
   "outputs": [
    {
     "ename": "FileNotFoundError",
     "evalue": "[Errno 2] No such file or directory: 'data.pickle'",
     "output_type": "error",
     "traceback": [
      "\u001b[1;31m---------------------------------------------------------------------------\u001b[0m",
      "\u001b[1;31mFileNotFoundError\u001b[0m                         Traceback (most recent call last)",
      "Cell \u001b[1;32mIn[15], line 2\u001b[0m\n\u001b[0;32m      1\u001b[0m \u001b[39m#Pickle хранит данные в бинарном формате\u001b[39;00m\n\u001b[1;32m----> 2\u001b[0m \u001b[39mwith\u001b[39;00m \u001b[39mopen\u001b[39;49m(\u001b[39m'\u001b[39;49m\u001b[39mdata.pickle\u001b[39;49m\u001b[39m'\u001b[39;49m) \u001b[39mas\u001b[39;00m f:\n\u001b[0;32m      3\u001b[0m     \u001b[39mfor\u001b[39;00m l \u001b[39min\u001b[39;00m f:\n\u001b[0;32m      4\u001b[0m         \u001b[39mprint\u001b[39m(l)\n",
      "File \u001b[1;32mc:\\Users\\mirqa\\AppData\\Local\\Programs\\Python\\Python311\\Lib\\site-packages\\IPython\\core\\interactiveshell.py:282\u001b[0m, in \u001b[0;36m_modified_open\u001b[1;34m(file, *args, **kwargs)\u001b[0m\n\u001b[0;32m    275\u001b[0m \u001b[39mif\u001b[39;00m file \u001b[39min\u001b[39;00m {\u001b[39m0\u001b[39m, \u001b[39m1\u001b[39m, \u001b[39m2\u001b[39m}:\n\u001b[0;32m    276\u001b[0m     \u001b[39mraise\u001b[39;00m \u001b[39mValueError\u001b[39;00m(\n\u001b[0;32m    277\u001b[0m         \u001b[39mf\u001b[39m\u001b[39m\"\u001b[39m\u001b[39mIPython won\u001b[39m\u001b[39m'\u001b[39m\u001b[39mt let you open fd=\u001b[39m\u001b[39m{\u001b[39;00mfile\u001b[39m}\u001b[39;00m\u001b[39m by default \u001b[39m\u001b[39m\"\u001b[39m\n\u001b[0;32m    278\u001b[0m         \u001b[39m\"\u001b[39m\u001b[39mas it is likely to crash IPython. If you know what you are doing, \u001b[39m\u001b[39m\"\u001b[39m\n\u001b[0;32m    279\u001b[0m         \u001b[39m\"\u001b[39m\u001b[39myou can use builtins\u001b[39m\u001b[39m'\u001b[39m\u001b[39m open.\u001b[39m\u001b[39m\"\u001b[39m\n\u001b[0;32m    280\u001b[0m     )\n\u001b[1;32m--> 282\u001b[0m \u001b[39mreturn\u001b[39;00m io_open(file, \u001b[39m*\u001b[39;49margs, \u001b[39m*\u001b[39;49m\u001b[39m*\u001b[39;49mkwargs)\n",
      "\u001b[1;31mFileNotFoundError\u001b[0m: [Errno 2] No such file or directory: 'data.pickle'"
     ]
    }
   ],
   "source": [
    "#Pickle хранит данные в бинарном формате\n",
    "#Открыли как текстовый файл\n",
    "with open('data.pickle') as f:\n",
    "    for l in f:\n",
    "        print(l)"
   ]
  },
  {
   "cell_type": "code",
   "execution_count": null,
   "metadata": {},
   "outputs": [],
   "source": [
    "#открыли в бинарном виде\n",
    "with open('data.pickle', 'rb') as f:\n",
    "    for l in f:\n",
    "        print(l)"
   ]
  },
  {
   "cell_type": "code",
   "execution_count": null,
   "metadata": {},
   "outputs": [],
   "source": [
    "#Восстановление объектов (данных) из файла pickle\n",
    "with open('data.pickle') as f:\n",
    "    dat1_l = pickle.load(f)\n",
    "dat1_l"
   ]
  },
  {
   "cell_type": "code",
   "execution_count": null,
   "metadata": {},
   "outputs": [],
   "source": [
    "#В один файл можно сохранить сразу несколько объектов, последовательно вызывая функцию dump()\n",
    "dat2 = (6, 7, 8, 9, 10)\n",
    "with open('dat2.pickle', 'wd') as f:\n",
    "    pickle.dump(dat1, f)\n",
    "    pickle.dump(dat2, f)"
   ]
  },
  {
   "cell_type": "code",
   "execution_count": null,
   "metadata": {},
   "outputs": [],
   "source": [
    "#восстановаление данных из файла\n",
    "with open('dat2.pickle', 'rb') as f:\n",
    "    dat1_l2 = pickle.dump(f)\n",
    "    dat2_l2 = pickle.dump(f)\n",
    "dat1_l2, dat2_l2"
   ]
  }
 ],
 "metadata": {
  "kernelspec": {
   "display_name": "Python 3",
   "language": "python",
   "name": "python3"
  },
  "language_info": {
   "codemirror_mode": {
    "name": "ipython",
    "version": 3
   },
   "file_extension": ".py",
   "mimetype": "text/x-python",
   "name": "python",
   "nbconvert_exporter": "python",
   "pygments_lexer": "ipython3",
   "version": "3.11.1"
  },
  "orig_nbformat": 4,
  "vscode": {
   "interpreter": {
    "hash": "0de6bac5783c631c6d9ce213cd07c850c0d5af614420fbca182ab1ec47feb25e"
   }
  }
 },
 "nbformat": 4,
 "nbformat_minor": 2
}
