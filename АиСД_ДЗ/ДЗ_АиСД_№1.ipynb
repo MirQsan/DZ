{
 "cells": [
  {
   "attachments": {},
   "cell_type": "markdown",
   "metadata": {},
   "source": [
    "Задача №1"
   ]
  },
  {
   "cell_type": "code",
   "execution_count": 1,
   "metadata": {},
   "outputs": [
    {
     "data": {
      "text/plain": [
       "0.5"
      ]
     },
     "execution_count": 1,
     "metadata": {},
     "output_type": "execute_result"
    }
   ],
   "source": [
    "class Lenght:\n",
    "    def __init__(self, value, unit):\n",
    "        self.value = value\n",
    "        self.unit = unit\n",
    "    def __str__(self, unit):\n",
    "        self.unit = unit\n",
    "    def checker(self, t):\n",
    "        d = ['м', 'см', 'км']\n",
    "        if t != self.unit:\n",
    "            if t == 'м' and self.unit == 'см':\n",
    "                self.value /= 100\n",
    "            elif t == 'м' and self.unit == 'км':\n",
    "                self.value *= 1000\n",
    "            elif t == 'см' and self.unit == 'м':\n",
    "                self.value *= 100\n",
    "            elif t == 'см' and self.unit == 'км':\n",
    "                self.value *= 100000\n",
    "            elif t == 'км' and self.unit == 'см':\n",
    "                self.value /= 100000\n",
    "            elif t == 'км' and self.unit == 'м':\n",
    "                self.value /= 1000\n",
    "        else:\n",
    "            return self.value\n",
    "    def get_value(self):\n",
    "        return self.value\n",
    "\n",
    "a = Lenght(50, 'см')\n",
    "a.checker('м')\n",
    "a.get_value()"
   ]
  },
  {
   "attachments": {},
   "cell_type": "markdown",
   "metadata": {},
   "source": [
    "Задача №2.1"
   ]
  },
  {
   "cell_type": "code",
   "execution_count": null,
   "metadata": {},
   "outputs": [],
   "source": [
    "class Point:\n",
    "  def __init__(self, x, y):\n",
    "    self.x = x\n",
    "    self.y = y\n",
    "\n",
    "  def __str__(self):\n",
    "    return \"Point(\" + str(self.x) + \",\" + str(self.y)+\")\"\n",
    "\n",
    "class Rect:\n",
    "  def __init__(self, top_left, bottom_right):\n",
    "    self.A = top_left\n",
    "    self.C = bottom_right\n",
    "\n",
    "  def __str__(self):\n",
    "    r = \"Rect(\" + str(self.A) + \",\"\n",
    "    r += str(self.C) + \")\"\n",
    "\n",
    "  def sides(self):\n",
    "    return abs(self.C.x - self.A.x), abs(self.A.y - self.C.y)\n",
    "  \n",
    "  def perim(self):\n",
    "    a,b = self.sides()\n",
    "    return 2 * (a + b)\n",
    "\n",
    "a = Point(1, 2)\n",
    "c = Point(3, 4)\n",
    "a.__str__()\n",
    "b = Rect(a, c)\n",
    "b.__str__()\n",
    "print(b.sides())\n",
    "b.perim()"
   ]
  },
  {
   "attachments": {},
   "cell_type": "markdown",
   "metadata": {},
   "source": [
    "Задача №2.2"
   ]
  },
  {
   "cell_type": "code",
   "execution_count": null,
   "metadata": {},
   "outputs": [],
   "source": [
    "class Point:\n",
    "  def __init__(self, x, y):\n",
    "    self.x = x\n",
    "    self.y = y\n",
    "\n",
    "  def __str__(self):\n",
    "    return \"Point(\" + str(self.x) + \",\" + str(self.y)+\")\"\n",
    "  \n",
    "class Triangle:\n",
    "  def __init__(self, A, B, C):\n",
    "     self.A = A\n",
    "     self.B = B\n",
    "     self.C = C\n",
    "  def __str__(self):\n",
    "    return 'BLA BLA BLA'\n",
    "\n",
    "  def sides(self):\n",
    "    first_side_length = ((self.A.x - self.B.x) ** 2 + (self.A.y - self.B.y)**2)**0.5\n",
    "    second_side_length = ((self.A.x - self.C.x) ** 2 + (self.A.y - self.C.y)**2)**0.5\n",
    "    third_side_length = ((self.C.x - self.B.x) ** 2 + (self.C.y - self.B.y)**2)**0.5\n",
    "    return first_side_length, second_side_length, third_side_length\n",
    "\n",
    "  def perimetr(self):\n",
    "    first_length, second_length, third_length = self.sides()\n",
    "    return first_length + second_length + third_length \n",
    "\n",
    "a = Point(0, 0)\n",
    "b = Point(4, 0)\n",
    "c = Point(0, 3)\n",
    "answ = Triangle(a, b, c)\n",
    "answ.perimetr()"
   ]
  }
 ],
 "metadata": {
  "kernelspec": {
   "display_name": "Python 3",
   "language": "python",
   "name": "python3"
  },
  "language_info": {
   "codemirror_mode": {
    "name": "ipython",
    "version": 3
   },
   "file_extension": ".py",
   "mimetype": "text/x-python",
   "name": "python",
   "nbconvert_exporter": "python",
   "pygments_lexer": "ipython3",
   "version": "3.11.1"
  },
  "orig_nbformat": 4,
  "vscode": {
   "interpreter": {
    "hash": "0de6bac5783c631c6d9ce213cd07c850c0d5af614420fbca182ab1ec47feb25e"
   }
  }
 },
 "nbformat": 4,
 "nbformat_minor": 2
}
