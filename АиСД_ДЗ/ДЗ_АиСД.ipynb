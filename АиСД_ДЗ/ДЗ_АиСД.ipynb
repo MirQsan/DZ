{
 "cells": [
  {
   "attachments": {},
   "cell_type": "markdown",
   "metadata": {},
   "source": [
<<<<<<< HEAD
    "# Домашняя работа №1 09.02.2023"
=======
    "# Домашняя  работа  №1  09.02.2023\n"
>>>>>>> a66c54208f3a262f7410da66dad6cb79a6bbba73
   ]
  },
  {
   "attachments": {},
   "cell_type": "markdown",
   "metadata": {},
   "source": [
    "**Задача №1**"
   ]
  },
  {
   "cell_type": "code",
   "execution_count": 1,
   "metadata": {},
   "outputs": [
    {
     "data": {
      "text/plain": [
       "0.5"
      ]
     },
     "execution_count": 1,
     "metadata": {},
     "output_type": "execute_result"
    }
   ],
   "source": [
    "class Lenght:\n",
    "    def __init__(self, value, unit):\n",
    "        self.value = value\n",
    "        self.unit = unit\n",
    "    def __str__(self, unit):\n",
    "        self.unit = unit\n",
    "    def checker(self, t):\n",
    "        d = ['м', 'см', 'км']\n",
    "        if t != self.unit:\n",
    "            if t == 'м' and self.unit == 'см':\n",
    "                self.value /= 100\n",
    "            elif t == 'м' and self.unit == 'км':\n",
    "                self.value *= 1000\n",
    "            elif t == 'см' and self.unit == 'м':\n",
    "                self.value *= 100\n",
    "            elif t == 'см' and self.unit == 'км':\n",
    "                self.value *= 100000\n",
    "            elif t == 'км' and self.unit == 'см':\n",
    "                self.value /= 100000\n",
    "            elif t == 'км' and self.unit == 'м':\n",
    "                self.value /= 1000\n",
    "        else:\n",
    "            return self.value\n",
    "    def get_value(self):\n",
    "        return self.value\n",
    "\n",
    "a = Lenght(50, 'см')\n",
    "a.checker('м')\n",
    "a.get_value()"
   ]
  },
  {
   "attachments": {},
   "cell_type": "markdown",
   "metadata": {},
   "source": [
    "**Задача №2.1**"
   ]
  },
  {
   "cell_type": "code",
<<<<<<< HEAD
   "execution_count": 2,
   "metadata": {},
   "outputs": [
    {
     "name": "stdout",
     "output_type": "stream",
     "text": [
      "(2, 2)\n"
     ]
    },
    {
     "data": {
      "text/plain": [
       "8"
      ]
     },
     "execution_count": 2,
     "metadata": {},
     "output_type": "execute_result"
    }
   ],
=======
   "execution_count": null,
   "metadata": {},
   "outputs": [],
>>>>>>> a66c54208f3a262f7410da66dad6cb79a6bbba73
   "source": [
    "class Point:\n",
    "  def __init__(self, x, y):\n",
    "    self.x = x\n",
    "    self.y = y\n",
    "\n",
    "  def __str__(self):\n",
    "    return \"Point(\" + str(self.x) + \",\" + str(self.y)+\")\"\n",
    "\n",
    "class Rect:\n",
    "  def __init__(self, top_left, bottom_right):\n",
    "    self.A = top_left\n",
    "    self.C = bottom_right\n",
    "\n",
    "  def __str__(self):\n",
    "    r = \"Rect(\" + str(self.A) + \",\"\n",
    "    r += str(self.C) + \")\"\n",
    "\n",
    "  def sides(self):\n",
    "    return abs(self.C.x - self.A.x), abs(self.A.y - self.C.y)\n",
    "  \n",
    "  def perim(self):\n",
    "    a,b = self.sides()\n",
    "    return 2 * (a + b)\n",
    "\n",
    "a = Point(1, 2)\n",
    "c = Point(3, 4)\n",
    "a.__str__()\n",
    "b = Rect(a, c)\n",
    "b.__str__()\n",
    "print(b.sides())\n",
    "b.perim()"
   ]
  },
  {
   "attachments": {},
   "cell_type": "markdown",
   "metadata": {},
   "source": [
    "**Задача №2.2**"
   ]
  },
  {
   "cell_type": "code",
<<<<<<< HEAD
   "execution_count": 3,
   "metadata": {},
   "outputs": [
    {
     "data": {
      "text/plain": [
       "12.0"
      ]
     },
     "execution_count": 3,
     "metadata": {},
     "output_type": "execute_result"
    }
   ],
=======
   "execution_count": null,
   "metadata": {},
   "outputs": [],
>>>>>>> a66c54208f3a262f7410da66dad6cb79a6bbba73
   "source": [
    "class Point:\n",
    "  def __init__(self, x, y):\n",
    "    self.x = x\n",
    "    self.y = y\n",
    "\n",
    "  def __str__(self):\n",
    "    return \"Point(\" + str(self.x) + \",\" + str(self.y)+\")\"\n",
    "  \n",
    "class Triangle:\n",
    "  def __init__(self, A, B, C):\n",
    "     self.A = A\n",
    "     self.B = B\n",
    "     self.C = C\n",
    "  def __str__(self):\n",
    "    return 'BLA BLA BLA'\n",
    "\n",
    "  def sides(self):\n",
    "    first_side_length = ((self.A.x - self.B.x) ** 2 + (self.A.y - self.B.y)**2)**0.5\n",
    "    second_side_length = ((self.A.x - self.C.x) ** 2 + (self.A.y - self.C.y)**2)**0.5\n",
    "    third_side_length = ((self.C.x - self.B.x) ** 2 + (self.C.y - self.B.y)**2)**0.5\n",
    "    return first_side_length, second_side_length, third_side_length\n",
    "\n",
    "  def perimetr(self):\n",
    "    first_length, second_length, third_length = self.sides()\n",
    "    return first_length + second_length + third_length \n",
    "\n",
    "a = Point(0, 0)\n",
    "b = Point(4, 0)\n",
    "c = Point(0, 3)\n",
    "answ = Triangle(a, b, c)\n",
    "answ.perimetr()"
   ]
  },
  {
   "attachments": {},
   "cell_type": "markdown",
   "metadata": {},
   "source": [
<<<<<<< HEAD
    "# Домашняя работа №2 20.02.2023"
=======
    "# Домашняя работа  №2  20.02.2023"
>>>>>>> a66c54208f3a262f7410da66dad6cb79a6bbba73
   ]
  },
  {
   "cell_type": "code",
   "execution_count": null,
   "metadata": {},
   "outputs": [],
   "source": [
    "from tabulate import tabulate\n",
    "class Statement:\n",
    "    dis_list = [\"Алгебра и анализ\", \"Организация вычислительных систем\", \n",
    "                \"Технологии обработки данных\", \"Практикум по программированию\", \n",
    "                \"Алгоритмы и структуры данных в языке Python\", \"Дискретная математика\", \n",
    "                \"Теория вероятностей и математическая статистика\", \"Иностранный язык\"]\n",
    "    marks = [\"отлично\", \"хорошо\", \"удовл.\", \"неудовл.\", \"н/я\"]\n",
    "    statement ={}\n",
    "\n",
    "    def __init__(self, discipline, group):\n",
    "        self.discipline = discipline if discipline in self.dis_list else print(\"Данной дисциплины нет в списке\")\n",
    "        self.group = group\n",
    "    \n",
    "    def put(self, surname, mark):\n",
    "        if set(mark).issubset(self.marks): \n",
    "            self.statement = {i: j for i, j in zip(surname, mark)}\n",
    "        else: print(\"Данные оценки не могут быть выставлены в ведомость\")\n",
    "    \n",
    "    def get(self, surname):\n",
    "        print(self.statement[surname])\n",
    "    \n",
    "    def change(self, surname, mark):\n",
    "        if mark in self.marks:\n",
    "            self.statement[surname] = mark\n",
    "        else: print(\"Данная оценка не может быть выставлена в ведомость\")\n",
    "    \n",
    "    def delit(self, surname):\n",
    "        self.statement.pop(surname, \"Данной фамилии нет в ведомости\")\n",
    "    \n",
    "    def result(self):\n",
    "        res = tuple(list(self.statement.values()).count(i) for i in self.marks)\n",
    "        print(res)\n",
    "\n",
    "    def __str__(self):\n",
    "        print(tabulate(self.statement.items(), headers = [self.discipline, self.group], tablefmt=\"orgtbl\"))\n",
    "    \n",
    "    def count(self):\n",
    "        print(len(self.statement), \"студента в ведомости\")\n",
    "    \n",
    "    def names(self):\n",
    "        print(*self.statement.keys())\n",
    "\n",
    "f = Statement(\"Математика\", \"11А\")\n",
    "print(f.discipline, f.group, sep=' - ')\n",
    "f.put([\"Алексеев\", \"Артемов\", \"Иванова\", \"Петров\", \"Сидорова\"], [\"отлично\", \"удовл.\", \"отлично\", \"хорошо\", \"н/я\"])\n",
    "print(f.statement)\n",
    "f.get(\"Алексеев\")\n",
    "f.change(\"Алексеев\", \"Удовлетворительно\")\n",
    "f.delit(\"Сидорова\")\n",
    "print(f.statement)\n",
    "f.result()\n",
    "f.__str__()\n",
    "f.count()\n",
    "f.names()"
   ]
  },
  {
   "attachments": {},
   "cell_type": "markdown",
   "metadata": {},
   "source": [
<<<<<<< HEAD
    "# Домашняя работа №3  02.03.2023 + Фрукты"
=======
    "# Домашняя работа  №3  02.03.2023 + Фрукты"
>>>>>>> a66c54208f3a262f7410da66dad6cb79a6bbba73
   ]
  },
  {
   "cell_type": "code",
<<<<<<< HEAD
   "execution_count": 6,
   "metadata": {},
   "outputs": [
    {
     "name": "stdout",
     "output_type": "stream",
     "text": [
      "[('1', 0), ('2', 1), ('3', 0), ('4', 2), ('5', 1)]\n"
     ]
    }
   ],
   "source": [
    "import pandas as pd\n",
    "class Stat:\n",
    "    list_disciplines = []\n",
    "    def __init__(self, discipline):\n",
    "        self.__class__.list_disciplines.append(discipline)\n",
    "        self.ved = {}\n",
    "    def __str__(self):\n",
    "        key = list(self.ved.keys())\n",
    "        value = list(self.ved.values())\n",
    "        return pd.DataFrame({'Студент' : key, 'Балл' : value})\n",
    "    def disciplines(self, dis):\n",
    "        return dis in self.list_disciplines\n",
    "    def put(self, surname, point):\n",
    "        self.ved[surname] = point\n",
    "    def get(self, surname):\n",
    "        try:\n",
    "            return self.ved[surname]\n",
    "        except:\n",
    "            return False\n",
    "    def change(self, surname, new_point):\n",
    "        self.ved[surname] = new_point\n",
    "    def dels(self, surname):\n",
    "        self.ved.pop(surname, None)\n",
    "    def result(self):\n",
    "        lisik = list(str(self.ved.values()))\n",
    "        f1 = [str(i) for i in range(1, 6)]\n",
    "        f2 = [lisik.count(i) for i in f1]\n",
    "        return list(zip(f1, f2))\n",
    "    def count(self):\n",
    "        return len(list(self.ved))\n",
    "    def names(self):\n",
    "        return list(str(self.ved.keys()))\n",
    "k = Stat('Химия')\n",
=======
   "execution_count": null,
   "metadata": {},
   "outputs": [],
   "source": [
    "import pandas as pd\n",
    "class Statement:\n",
    "  list_disciplines = []\n",
    "  def __init__(self, discipline):\n",
    "    self.__class__.list_disciplines.append(discipline)\n",
    "    self.ved = {}\n",
    "  def __str__(self):\n",
    "    key = list(self.ved.keys())\n",
    "    value = list(self.ved.values())\n",
    "    return pd.DataFrame({'Студент' : key, 'Балл' : value})\n",
    "  def disciplines(self, dis):\n",
    "    return dis in self.list_disciplines\n",
    "  def put(self, surname, point):\n",
    "    self.ved[surname] = point\n",
    "  def get(self, surname):\n",
    "    try:\n",
    "      return self.ved[surname]\n",
    "    except:\n",
    "      return False\n",
    "  def change(self, surname, new_point):\n",
    "    self.ved[surname] = new_point\n",
    "  def dels(self, surname):\n",
    "    self.ved.pop(surname, None)\n",
    "  def result(self):\n",
    "    lisik = list(str(self.ved.values()))\n",
    "    f1 = [str(i) for i in range(1, 6)]\n",
    "    f2 = [lisik.count(i) for i in f1]\n",
    "    return list(zip(f1, f2))\n",
    "  def count(self):\n",
    "    return len(list(self.ved))\n",
    "  def names(self):\n",
    "    return list(str(self.ved.keys()))\n",
    "k = statement('Химия')\n",
>>>>>>> a66c54208f3a262f7410da66dad6cb79a6bbba73
    "k.put('Явов', 4)\n",
    "k.put('Гук', 2)\n",
    "k.put('Лосев', 4)\n",
    "k.put('Кусков', 5)\n",
    "print(k.result())"
   ]
  },
  {
   "attachments": {},
   "cell_type": "markdown",
   "metadata": {},
   "source": [
    "**Фрукты**"
   ]
  },
  {
   "cell_type": "code",
<<<<<<< HEAD
   "execution_count": 10,
   "metadata": {},
   "outputs": [
    {
     "name": "stdout",
     "output_type": "stream",
     "text": [
      "1\n",
      "2\n",
      "[<__main__.Apple object at 0x0000018F4C964D50>, <__main__.Apple object at 0x0000018F33EE3D90>, <__main__.Apple object at 0x0000018F33EE0790>, <__main__.Apple object at 0x0000018F33ED61D0>, <__main__.Apple object at 0x0000018F4C9CA8D0>, <__main__.Apple object at 0x0000018F4C9CA950>, <__main__.Apple object at 0x0000018F4C9CAA10>, <__main__.Apple object at 0x0000018F4C9CA990>, <__main__.Apple object at 0x0000018F4C9CA9D0>, <__main__.Apple object at 0x0000018F4C9CA810>]\n"
     ]
    }
   ],
   "source": [
=======
   "execution_count": null,
   "metadata": {},
   "outputs": [],
   "source": [
    "#Фрукты\n",
>>>>>>> a66c54208f3a262f7410da66dad6cb79a6bbba73
    "class Fruit(object):\n",
    "    \"\"\"Fruit\"\"\"\n",
    "    number=0\n",
    "    indexes=0\n",
    "    types = 'Fruit'\n",
<<<<<<< HEAD
    "    def __init__(self,size,taste):\n",
=======
    "    def init(self,size,taste):\n",
>>>>>>> a66c54208f3a262f7410da66dad6cb79a6bbba73
    "        \"\"\"General\"\"\"\n",
    "        self.taste=taste\n",
    "        self.size=size\n",
    "        Fruit.number+=1\n",
    "        Fruit.indexes+=1\n",
    "    def describe(self):\n",
    "        \"\"\"Description\"\"\"\n",
    "        print(self.taste)\n",
    "        print(self.size)\n",
    "    def cut(self,parts):\n",
    "        print(f\"{self.name} is cut into {parts}\")\n",
    "        print(f\"It's {self.taste}!!\")\n",
    "class Apple(Fruit):\n",
    "    \"\"\"Apple\"\"\"\n",
<<<<<<< HEAD
    "    def __init__(self,amount,size,taste,color):\n",
    "        super().__init__(size, taste)\n",
=======
    "    def init(self,amount,size,taste,color):\n",
    "        super().init(size, taste)\n",
>>>>>>> a66c54208f3a262f7410da66dad6cb79a6bbba73
    "        self.amount=amount\n",
    "        self.name = 'Apple'\n",
    "        self.color=color\n",
    "\n",
    "    def cut(self,parts):\n",
    "        super().cut(parts)\n",
    "        return 'Nice apple!'\n",
    "    def describe(self):\n",
    "         super().describe()\n",
    "         return 'Great'\n",
    "    def pie(self):\n",
    "        return f\"We made apple pie\"\n",
    "class Citrus(Apple):\n",
<<<<<<< HEAD
    "    def __init__(self,size, taste,color):\n",
    "        super().__init__(size, taste, color)\n",
=======
    "    def init(self,size, taste,color):\n",
    "        super().init(size, taste, color)\n",
>>>>>>> a66c54208f3a262f7410da66dad6cb79a6bbba73
    "        self.name = 'Orange'\n",
    "    def cut(self, parts):\n",
    "        super().cut()\n",
    "        return  f'Nice {self.name}!'\n",
    "    def describe(self):\n",
    "        return super().describe()\n",
    "    def pie(self):\n",
    "        return f\"We made {self.name} pie\"\n",
    "    def juice(self):\n",
    "        return (f\"We made {self.name} juice\")\n",
    "\n",
    "lst=[]\n",
    "a=Apple(2,'Small','Good','Red')\n",
    "print(a.indexes)\n",
    "a1=Apple(3,'Small','Good','Red')\n",
    "print(a1.number)\n",
    "fruits = [Apple(f\"{i}\",'Big','TAsty','REd') for i in range(10)]\n",
    "print(fruits)"
   ]
  },
  {
   "attachments": {},
   "cell_type": "markdown",
   "metadata": {},
   "source": [
<<<<<<< HEAD
    "**Наше выступление, т.е. Задание на семинар**"
=======
    "**Наше Выступление, т.е. Задание на семинар** "
>>>>>>> a66c54208f3a262f7410da66dad6cb79a6bbba73
   ]
  },
  {
   "cell_type": "code",
   "execution_count": null,
   "metadata": {},
   "outputs": [],
   "source": [
    "import math\n",
    "import cmath as m\n",
    "import tkinter as tk\n",
    "\n",
    "class Point:\n",
    "    def __init__(self, x, y):\n",
    "        self.__x = x\n",
    "        self.__y = y\n",
    "    def get(self):\n",
    "        return self.__x,self.__y\n",
    "    def set(self,x1):\n",
    "        self.__x=x1\n",
    "\n",
    "class Figure:\n",
    "    def __init__(self, A, B):\n",
    "        self.x1,self.y1 = A.get()\n",
    "        self.x2,self.y2 = B.get()\n",
    "\n",
    "    def draw(self):\n",
    "        stroka=''\n",
    "        data = [['.'] * 40 for i in range(40)]\n",
    "        for i in range(40):\n",
    "            for j in range(40):\n",
    "                if (i == self.x1 and j == self.y1) or (i == self.x2 and j == self.y2):\n",
    "                    data[i][j] = '*'\n",
    "        for i in range(len(data)):  # строка\n",
    "            for j in range(len(data[i])):  # строка\n",
    "                # print(len(data[i]))\n",
    "                stroka += data[i][j]\n",
    "                if j == len(data[i])-1:\n",
    "                    stroka += '\\n'\n",
    "        for i in range(40):\n",
    "            for j in range(40):\n",
    "                print(data[i][j], end='')\n",
    "            print('')\n",
    "        return stroka\n",
    "\n",
    "    def figure_square(self):\n",
    "        pass\n",
    "\n",
    "class Rectangle(Figure):\n",
    "    def __init__(self, A, D):\n",
    "        self.x1, self.y1 = A.get()\n",
    "        self.x2, self.y2 = D.get()\n",
    "\n",
    "    def draw(self):\n",
    "        stroka=''\n",
    "        data = [['.'] * 40 for i in range(40)]\n",
    "        for i in range(40):\n",
    "            for j in range(40):\n",
    "                if (self.y1 <= i <= self.y2) and (self.x1 <= j <= self.x2):\n",
    "                    data[i][j] = '*'\n",
    "        for i in range(len(data)):  # строка\n",
    "            for j in range(len(data[i])):  # строка\n",
    "                # print(len(data[i]))\n",
    "                stroka += data[i][j]\n",
    "                if j == len(data[i])-1:\n",
    "                    stroka += '\\n'\n",
    "        for i in range(40):\n",
    "            for j in range(40):\n",
    "                print(data[i][j], end='')\n",
    "            print('')\n",
    "        return stroka\n",
    "\n",
    "    def move_left(self):\n",
    "        self.x1=self.x1-1\n",
    "        self.x2=self.x2-1\n",
    "        self.draw()\n",
    "        self.draw()\n",
    "    def move_right(self):\n",
    "        self.x1=self.x1+1\n",
    "        self.x2=self.x2+1\n",
    "        return self.draw()\n",
    "    def move_up(self):\n",
    "        self.y1=self.y1-1\n",
    "        self.y2=self.y2-1\n",
    "        self.draw()\n",
    "    def move_down(self):\n",
    "        self.y1 = self.y1 + 1\n",
    "        self.y2 = self.y2+ 1\n",
    "        self.draw()\n",
    "\n",
    "    @property\n",
    "    def figure_square(self):\n",
    "        a = (self.x2 - self.x1)\n",
    "        b = (self.y2 - self.y1)\n",
    "        return a * b\n",
    "\n",
    "\n",
    "class Triangle(Figure):\n",
    "    def __init__(self, A, B, C):\n",
    "        self.x1,self.y1 = A.get()\n",
    "        self.x2,self.y2 = B.get()\n",
    "        self.x3,self.y3 = C.get()\n",
    "\n",
    "    def line(self, x_1, y_1, x_2, y_2):\n",
    "        return math.sqrt((x_1 - x_2) ** 2 + (y_1 - y_2) ** 2)\n",
    "\n",
    "    def square(self, x1, y1, x2, y2, x3, y3):\n",
    "        a, b, c = self.line(x1, y1, x2, y2), self.line(x1, y1, x3, y3), self.line(x2, y2, x3, y3)\n",
    "        p = (a + b + c) / 2\n",
    "        return m.sqrt(p * (p - a) * (p - b) * (p - c))\n",
    "\n",
    "    @property\n",
    "    def figure_square(self):\n",
    "        a = math.floor(math.sqrt((self.x1 - self.x3) ** 2 + (self.y1 - self.y3) ** 2))\n",
    "        b = math.floor(math.sqrt((self.x2 - self.x3) ** 2 + (self.y2 - self.y3) ** 2))\n",
    "        c = math.floor(math.sqrt((self.x3 - self.x1) ** 2 + (self.y2 - self.y1) ** 2))\n",
    "        p = (a + b + c) / 2\n",
    "        return m.sqrt(math.sqrt(p * (p - a) * (p - b) * (p - c)))\n",
    "\n",
    "    def in_or_out(self, x, y):\n",
    "        self.x = x - 1\n",
    "        self.y = y - 1\n",
    "        sqr1 = self.square(self.x1, self.y1, self.x2, self.y2, self.x, self.y)\n",
    "        sqr2 = self.square(self.x1, self.y1, self.x3, self.y3, self.x, self.y)\n",
    "        sqr3 = self.square(self.x2, self.y2, self.x3, self.y3, self.x, self.y)\n",
    "        sqr_whole = self.square(self.x1, self.y1, self.x2, self.y2, self.x3, self.y3)\n",
    "        if (abs(sqr_whole - sqr1 - sqr2 - sqr3) <= 0.0001):\n",
    "            return True\n",
    "        else:\n",
    "            return False\n",
    "\n",
    "    def draw(self):\n",
    "        data = [['.'] * 40 for i in range(40)]\n",
    "        stroka=''\n",
    "        for i in range(40):\n",
    "            for j in range(40):\n",
    "                if self.in_or_out(i, j):\n",
    "                    data[i][j] = '*'\n",
    "        for i in range(len(data)):  # строка\n",
    "            for j in range(len(data[i])):  # строка\n",
    "                # print(len(data[i]))\n",
    "                stroka += data[i][j]\n",
    "                if j == len(data[i])-1:\n",
    "                    stroka += '\\n'\n",
    "        for i in range(40):\n",
    "            for j in range(40):\n",
    "                print(data[i][j], end='')\n",
    "            print('')\n",
    "        return stroka\n",
    "    def move_up(self):\n",
    "        self.x1 = self.x1-1\n",
    "        self.x2 = self.x2-1\n",
    "        self.x3 = self.x3-1\n",
    "        self.draw()\n",
    "    def move_down(self):\n",
    "        self.x1 = self.x1 + 1\n",
    "        self.x2 = self.x2 + 1\n",
    "        self.x3 = self.x3 + 1\n",
    "        self.draw()\n",
    "    def move_left(self):\n",
    "        self.y1 = self.y1 - 1\n",
    "        self.y2 = self.y2 - 1\n",
    "        self.y3 = self.y3 -1\n",
    "        self.draw()\n",
    "    def move_right(self):\n",
    "        self.y1 = self.y1 + 1\n",
    "        self.y2 = self.y2 + 1\n",
    "        self.y3 = self.y3 + 1\n",
    "        self.draw()\n",
    "\n",
    "class Square(Rectangle):\n",
    "    def __init__(self, A, D):\n",
    "        self.x1,self.y1 = A.get()\n",
    "        self.x2,self.y2 = D.get()\n",
    "    def move_left(self):\n",
    "        self.x1=self.x1-1\n",
    "        self.x2=self.x2-1\n",
    "        self.draw()\n",
    "    def move_right(self):\n",
    "        self.x1=self.x1+1\n",
    "        self.x2=self.x2+1\n",
    "        return self.draw()\n",
    "    def move_up(self):\n",
    "        self.y1=self.y1-1\n",
    "        self.y2=self.y2-1\n",
    "        return self.draw()\n",
    "    def move_down(self):\n",
    "        self.y1 = self.y1 + 1\n",
    "        self.y2 = self.y2 + 1\n",
    "        return self.draw()\n",
    "\n",
    "    def draw(self):\n",
    "        return super().draw()\n",
    "    @property\n",
    "    def figure_square(self):\n",
    "        a = math.floor((self.x1 - self.x2))\n",
    "        return a * a\n",
    "\n",
    "\n",
    "class Diamond:\n",
    "    def __init__(self, A, B, C, D):\n",
    "        self.x1,self.y1 = A.get()\n",
    "        self.x2,self.y2 = B.get()\n",
    "        self.x3,self.y3 = C.get()\n",
    "        self.x4,self.y4 = D.get()\n",
    "\n",
    "    def line(self, x_1, y_1, x_2, y_2):\n",
    "        return math.sqrt((x_1 - x_2) ** 2 + (y_1 - y_2) ** 2)\n",
    "\n",
    "    def square(self, x1, y1, x2, y2, x3, y3):\n",
    "        a, b, c = self.line(x1, y1, x2, y2), self.line(x1, y1, x3, y3), self.line(x2, y2, x3, y3)\n",
    "        p = (a + b + c) / 2\n",
    "        return m.sqrt(p * (p - a) * (p - b) * (p - c))\n",
    "    @property\n",
    "    def figure_square(self):\n",
    "        sqr_whole = self.square(self.x1, self.y1, self.x2, self.y2, self.x3, self.y3)\n",
    "        return 2*sqr_whole\n",
    "\n",
    "    def in_or_out(self, x, y):\n",
    "        self.x = x - 1\n",
    "        self.y = y - 1\n",
    "        sqr1 = self.square(self.x1, self.y1, self.x2, self.y2, self.x, self.y)\n",
    "        sqr2 = self.square(self.x1, self.y1, self.x3, self.y3, self.x, self.y)\n",
    "        sqr3 = self.square(self.x2, self.y2, self.x3, self.y3, self.x, self.y)\n",
    "        sqr_whole = self.square(self.x1, self.y1, self.x2, self.y2, self.x3, self.y3)\n",
    "        if (abs(sqr_whole - sqr1 - sqr2 - sqr3) <= 0.0001):\n",
    "            return True\n",
    "        else:\n",
    "            return False\n",
    "\n",
    "    def draw(self):\n",
    "        stroka=''\n",
    "        data = [['.'] * 40 for i in range(40)]\n",
    "        for i in range(40):\n",
    "            for j in range(40):\n",
    "                if self.in_or_out(i, j):\n",
    "                    data[i][j] = '*'\n",
    "        self.x3 = self.x4\n",
    "        self.y3 = self.y4\n",
    "        for i in range(len(data)):  # строка\n",
    "            for j in range(len(data[i])):  # строка\n",
    "                # print(len(data[i]))\n",
    "                stroka += data[i][j]\n",
    "                if j == len(data[i])-1:\n",
    "                    stroka += '\\n'\n",
    "        for i in range(40):\n",
    "            for j in range(40):\n",
    "                print(data[i][j], end='')\n",
    "            print('')\n",
    "        return stroka\n",
    "    def move_up(self):\n",
    "        self.x1 = self.x1 - 1\n",
    "        self.x2 = self.x2 - 1\n",
    "        self.x3 = self.x3 - 1\n",
    "        self.x4=self.x4-1\n",
    "        self.draw()\n",
    "\n",
    "    def move_down(self):\n",
    "        self.x1 = self.x1 + 1\n",
    "        self.x2 = self.x2 + 1\n",
    "        self.x3 = self.x3 + 1\n",
    "        self.x4 = self.x4 + 1\n",
    "        self.draw()\n",
    "\n",
    "    def move_left(self):\n",
    "        self.y1 = self.y1 - 1\n",
    "        self.y2 = self.y2 - 1\n",
    "        self.y3 = self.y3 - 1\n",
    "        self.y4 = self.y4 - 1\n",
    "        self.draw()\n",
    "\n",
    "    def move_right(self):\n",
    "        self.y1 = self.y1 + 1\n",
    "        self.y2 = self.y2 + 1\n",
    "        self.y3 = self.y3 + 1\n",
    "        self.y4 = self.y4 + 1\n",
    "        self.draw()\n",
    "\n",
    "class Window(object):\n",
    "    def __int__(self,text,text1='',text2='',text3=''):\n",
    "        self.text=text\n",
    "        self.text1=text1\n",
    "        self.text2=text2\n",
    "        self.text3=text3\n",
    "    @property\n",
    "    def screen(self):\n",
    "        windows=tk.Tk()\n",
    "        windows=windows.title('Figures')\n",
    "        return windows\n",
    "    @staticmethod\n",
    "    def draw_with_window(text,color1,color2):\n",
    "        windows = tk.Tk()\n",
    "        windows.title('Figures')\n",
    "        windows= tk.Label(text=text,background=color2,foreground=color1).grid(row=0, column=1)\n",
    "        return windows\n",
    "    @staticmethod\n",
    "    def draw_all_figures(fig1,fig2,fig3,fig4,color1,color2):\n",
    "        x1=tk.Label(text=fig1,bg=color1,fg=color2,justify='left').grid(row=0,column=1)\n",
    "        x2=tk.Label(text=fig2,bg=color1,fg=color2).grid(row=0,column=2)\n",
    "        x3=tk.Label(text=fig3,bg=color1,fg=color2).grid(row=0,column=3)\n",
    "        x4=tk.Label(text=fig4,bg=color1,fg=color2).grid(row=0,column=4)\n",
    "        return x1,x2,x3,x4\n",
    "\n",
    "w=Window()\n",
    "a = Point(0,0)\n",
    "b = Point(20, 30)\n",
    "c = Point(30, 10)\n",
    "d = Point(40, 40)\n",
    "answ=Square(a,b)\n",
    "w.draw_with_window(answ.draw(),'red','black')\n",
    "answ2=Rectangle(a,b)\n",
    "answ3=Diamond(a,b,c,d)\n",
    "answ1=Triangle(a,b,c)\n",
    "# text0 = tk.Label(\n",
    "#     text=answ1.draw()\n",
    "# ).grid(row=0, column=0)\n",
    "# print(answ1.draw())\n",
    "# text2 = tk.Label(\n",
    "#     text=answ1.draw(),\n",
    "#     justify=\"left\", #выравнивание\n",
    "#     bg=\"black\", #задник\n",
    "#     fg=\"white\", #фон текста\n",
    "#     #font=(\"Times New Roman\", 18)\n",
    "#       ).grid(row=0,column=2)\n",
    "# print(answ1.move_down())\n",
    "x=answ.draw()\n",
    "y=answ1.draw()\n",
    "z=answ2.draw()\n",
    "c=answ3.draw()\n",
    "# w.draw_all_figures(x,y,z,c,'black','orange')\n",
    "lst = [answ, answ1, answ2,answ3]\n",
    "\n",
    "class Shape(object):\n",
    "    def __init__(self, lst):\n",
    "        self.lst = lst\n",
    "\n",
    "    def draw_all(self):\n",
    "        for el in lst:\n",
    "            el.draw()\n",
    "            print('XXX')\n",
    "\n",
    "    def all_square(self):\n",
    "        lst1 = []\n",
    "        for el in lst:\n",
    "            lst1.append(el.figure_square)\n",
    "        return sum(lst1)\n",
    "\n",
    "\n",
    "sh = Shape(lst)\n",
    "print(sh.draw_all())\n",
    "print(sh.all_square())\n",
    "tk.mainloop()"
   ]
  },
  {
   "attachments": {},
   "cell_type": "markdown",
   "metadata": {},
   "source": [
    "# Домашняя работа №4 09.03.2023"
   ]
  },
  {
   "attachments": {},
   "cell_type": "markdown",
   "metadata": {},
   "source": [
    "**Задание №1**"
   ]
  },
  {
   "cell_type": "code",
<<<<<<< HEAD
   "execution_count": 16,
=======
   "execution_count": 1,
>>>>>>> a66c54208f3a262f7410da66dad6cb79a6bbba73
   "metadata": {},
   "outputs": [
    {
     "name": "stdout",
     "output_type": "stream",
     "text": [
<<<<<<< HEAD
      "{'hello': <function func1 at 0x0000018F4CAAF9C0>, 'foo': <function func2 at 0x0000018F4CAAF920>, 'nice': <function func3 at 0x0000018F4B3B4220>}\n"
=======
      "{'hello': <function func1 at 0x000001F171DDC040>, 'foo': <function func2 at 0x000001F171DDC180>, 'nice': <function func3 at 0x000001F171DDC360>}\n"
>>>>>>> a66c54208f3a262f7410da66dad6cb79a6bbba73
     ]
    }
   ],
   "source": [
    "def get_functions_dict(functions):\n",
    "    functions_dict = {}\n",
    "    for func in functions:\n",
    "        annotation = func.__annotations__.get('return', '')\n",
    "        first_word = annotation.split()[0]\n",
    "        functions_dict[first_word] = func\n",
    "    return functions_dict\n",
    "\n",
    "def func1(a : int) -> 'hello world':\n",
    "    pass\n",
    "def func2() -> 'foo bar':\n",
    "    pass\n",
    "def func3() -> 'nice nice':\n",
    "    pass\n",
    "functions = [func1, func2, func3]\n",
    "result = get_functions_dict(functions)\n",
    "print(result)"
   ]
  },
  {
   "attachments": {},
   "cell_type": "markdown",
   "metadata": {},
   "source": [
    "**Задание №2.1 и №2.2**"
   ]
  },
  {
   "cell_type": "code",
   "execution_count": null,
   "metadata": {},
   "outputs": [],
   "source": [
    "def dict_repl(*dictionary):\n",
    "    while True:\n",
    "        command = input('Enter command: ')\n",
    "        if command == 'exit':\n",
    "            break\n",
    "        try:\n",
    "            key, value = command.split()\n",
    "            if key == 'get':\n",
    "                print(dictionary.get(value, 'Key not found'))\n",
    "            elif key == 'set':\n",
    "                key, value = value.split('=')\n",
    "                dictionary[key] = value\n",
    "            elif key == 'del':\n",
    "                del dictionary[value]\n",
    "            else:\n",
    "                print('Invalid command')\n",
    "        except ValueError:\n",
    "            print('Invalid command')\n",
    "dict_repl(result)"
   ]
  },
  {
   "attachments": {},
   "cell_type": "markdown",
   "metadata": {},
   "source": [
    "**Задание №3**"
   ]
  },
  {
   "cell_type": "code",
<<<<<<< HEAD
   "execution_count": 13,
=======
   "execution_count": 4,
>>>>>>> a66c54208f3a262f7410da66dad6cb79a6bbba73
   "metadata": {},
   "outputs": [
    {
     "name": "stdout",
     "output_type": "stream",
     "text": [
      "120\n"
     ]
    }
   ],
   "source": [
<<<<<<< HEAD
    "\n",
=======
>>>>>>> a66c54208f3a262f7410da66dad6cb79a6bbba73
    "def tail_facto(n, a = 1):\n",
    "    if n == 0:\n",
    "        return a # возвращаем конечный результат в редыдущий вызов функции\n",
    "    return tail_facto(n - 1, n * a) # уменьшаем n на 1, a n умножаем на значение a (предыдущий n (n + 1))\n",
    "print(tail_facto(5))"
   ]
  },
  {
   "attachments": {},
   "cell_type": "markdown",
   "metadata": {},
   "source": [
    "# Домашняя работа №5 23.03.2023"
   ]
  },
  {
   "attachments": {},
   "cell_type": "markdown",
   "metadata": {},
   "source": [
    "**Задание №1**"
   ]
  },
  {
   "cell_type": "code",
   "execution_count": null,
   "metadata": {},
   "outputs": [],
   "source": [
    "import time\n",
    "def print_info(func):\n",
    "    level = 0\n",
    "    def wrapper(*args):\n",
    "        nonlocal level\n",
    "        arg_str = ', '.join([str(arg) for arg in args])\n",
    "        print('    ' * level + f'Calling {func.__name__}({arg_str})')\n",
    "        start_time = time.time()\n",
    "        level += 1\n",
    "        result = func(*args)\n",
    "        level -= 1\n",
    "        end_time = time.time()\n",
    "        print('    ' * level + f'{func.__name__} returned {result} in {end_time - start_time:.6f} seconds')\n",
    "        return result\n",
    "    return wrapper\n",
    "\n",
    "@print_info\n",
    "def fib(n):\n",
    "    if n < 2:\n",
    "        return n\n",
    "    return fib(n-1) + fib(n-2)\n",
    "\n",
    "fib(10)"
   ]
  },
  {
   "attachments": {},
   "cell_type": "markdown",
   "metadata": {},
   "source": [
    "**Задание №2**"
   ]
  },
  {
   "cell_type": "code",
   "execution_count": null,
   "metadata": {},
   "outputs": [],
   "source": [
    "def tolst(lens, fill):\n",
    "    def decorator(func):\n",
    "        def wrapper(*args):\n",
    "            result = func(*args)\n",
    "            if lens <= len(result):\n",
    "                return result[:lens]\n",
    "            else:\n",
    "                return result + [fill] * (lens - len(result))\n",
    "        return wrapper\n",
    "    return decorator\n",
    "\n",
    "@tolst(5, 0)\n",
    "def my_func():\n",
    "    return [1, 2, 3]\n",
    "\n",
    "print(my_func()) #[1, 2, 3, 0, 0]\n",
    "\n",
    "@tolst(3, 'a')\n",
    "def my_func2():\n",
    "    return [1, 2, 3, 4]\n",
    "\n",
    "print(my_func2()) #[1, 2, 3]"
   ]
  },
  {
   "attachments": {},
   "cell_type": "markdown",
   "metadata": {},
   "source": [
    "**Задание №3.1**"
   ]
  },
  {
   "cell_type": "code",
   "execution_count": null,
   "metadata": {},
   "outputs": [],
   "source": [
    "from functools import reduce\n",
    "sum_all = [1] + list(map(lambda x: reduce(lambda y, z: y * z, x), [[5] * i for i in range(1, 11)]))\n",
    "sum_all"
   ]
  },
  {
   "attachments": {},
   "cell_type": "markdown",
   "metadata": {},
   "source": [
    "**Задание №3.2**"
   ]
  },
  {
   "cell_type": "code",
   "execution_count": null,
   "metadata": {},
   "outputs": [],
   "source": [
    "result = []\n",
    "for i in range(11):\n",
    "    num = 1\n",
    "    for j in range(i):\n",
    "        num *= 5\n",
    "    result.append(num)"
   ]
  },
  {
   "attachments": {},
   "cell_type": "markdown",
   "metadata": {},
   "source": [
    "**Задание №4**"
   ]
  },
  {
   "cell_type": "code",
   "execution_count": null,
   "metadata": {},
   "outputs": [],
   "source": [
    "from functools import reduce\n",
    "result = [19, 2, 4, 5, 7, 8, 66, 99]\n",
    "result_str = list(map(str, result))\n",
    "result_str = reduce(lambda x, y: x + ' ' + y, result_str)\n",
    "result_str"
   ]
  },
  {
   "attachments": {},
   "cell_type": "markdown",
   "metadata": {},
   "source": [
    "**Задание №5**"
   ]
  },
  {
   "cell_type": "code",
   "execution_count": null,
   "metadata": {},
   "outputs": [],
   "source": [
    "from functools import reduce\n",
    "su = reduce(lambda z, y: z + y if y%9 != 0 else z + 0, list(map(lambda x: reduce(lambda y, z: y * z, x), [[i] * 2 for i in range(1, 101)])))\n",
    "print(su)"
   ]
  },
  {
   "attachments": {},
   "cell_type": "markdown",
   "metadata": {},
   "source": [
    "**Задание №5.1**"
   ]
  },
  {
   "cell_type": "code",
   "execution_count": null,
   "metadata": {},
   "outputs": [],
   "source": [
    "list(map(lambda x: reduce(lambda y, z: y * z, x), [[i] * 2 for i in range(1, 101)]))"
   ]
  },
  {
   "attachments": {},
   "cell_type": "markdown",
   "metadata": {},
   "source": [
    "**Задание №6**"
   ]
  },
  {
   "cell_type": "code",
   "execution_count": null,
   "metadata": {},
   "outputs": [],
   "source": [
    "from functools import reduce\n",
    "\n",
    "result = [1, 5, 5, 25, 125, 125, 625, 3125, 3125, 3125]\n",
    "result_unique = list(filter(lambda x: result.count(x) == 1, result))\n",
    "result_combined = reduce(lambda x, y: x + [y] if y not in x else x, result_unique, [])"
   ]
  },
  {
   "attachments": {},
   "cell_type": "markdown",
   "metadata": {},
   "source": [
    "**Задание №7**"
   ]
  },
  {
   "cell_type": "code",
<<<<<<< HEAD
   "execution_count": null,
   "metadata": {},
   "outputs": [],
=======
   "execution_count": 6,
   "metadata": {},
   "outputs": [
    {
     "name": "stdout",
     "output_type": "stream",
     "text": [
      "(9, 8, 7, 6, 5, 4, 3, 2, 1)\n"
     ]
    }
   ],
>>>>>>> a66c54208f3a262f7410da66dad6cb79a6bbba73
   "source": [
    "def flip(func):\n",
    "    def wrapper(*args):\n",
    "        return args[::-1]\n",
    "    return wrapper\n",
    "@flip\n",
    "def funct(*args):\n",
    "  return args\n",
    "print(funct(1, 2, 3, 4, 5, 6, 7, 8, 9))"
   ]
  }
 ],
 "metadata": {
  "kernelspec": {
   "display_name": "Python 3",
   "language": "python",
   "name": "python3"
  },
  "language_info": {
   "codemirror_mode": {
    "name": "ipython",
    "version": 3
   },
   "file_extension": ".py",
   "mimetype": "text/x-python",
   "name": "python",
   "nbconvert_exporter": "python",
   "pygments_lexer": "ipython3",
<<<<<<< HEAD
   "version": "3.11.2"
=======
   "version": "3.11.1"
>>>>>>> a66c54208f3a262f7410da66dad6cb79a6bbba73
  },
  "orig_nbformat": 4,
  "vscode": {
   "interpreter": {
<<<<<<< HEAD
    "hash": "5238573367df39f7286bb46f9ff5f08f63a01a80960060ce41e3c79b190280fa"
=======
    "hash": "0de6bac5783c631c6d9ce213cd07c850c0d5af614420fbca182ab1ec47feb25e"
>>>>>>> a66c54208f3a262f7410da66dad6cb79a6bbba73
   }
  }
 },
 "nbformat": 4,
 "nbformat_minor": 2
}
