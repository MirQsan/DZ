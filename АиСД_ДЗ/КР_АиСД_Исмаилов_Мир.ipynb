{
 "cells": [
  {
   "attachments": {},
   "cell_type": "markdown",
   "metadata": {},
   "source": [
    "# Задание на ООП"
   ]
  },
  {
   "attachments": {},
   "cell_type": "markdown",
   "metadata": {},
   "source": [
    "**Задание №1**"
   ]
  },
  {
   "attachments": {},
   "cell_type": "markdown",
   "metadata": {},
   "source": [
    "Создать класс Студент с атрибутами **полное имя, курс (1,2,3 или 4), оценки по 5 предметам.** "
   ]
  },
  {
   "cell_type": "code",
   "execution_count": 1,
   "metadata": {},
   "outputs": [],
   "source": [
    "class Student:\n",
    "    def __init__(self, name, course, estimation):\n",
    "        self.name = name\n",
    "        self.course = course\n",
    "        self.estimation = estimation"
   ]
  },
  {
   "attachments": {},
   "cell_type": "markdown",
   "metadata": {},
   "source": [
    "**Задание №2**"
   ]
  },
  {
   "attachments": {},
   "cell_type": "markdown",
   "metadata": {},
   "source": [
    "Создать наследника класса **Студент – Студент ПИ22-3**, имеющий дополнительный атрибут **номер команды**. "
   ]
  },
  {
   "cell_type": "code",
   "execution_count": 2,
   "metadata": {},
   "outputs": [],
   "source": [
    "class StudentPI22_3(Student):\n",
    "    def __init__(self, name, course, estimation, num_t):\n",
    "        super().__init__(name, course, estimation)\n",
    "        self.num_t = num_t"
   ]
  },
  {
   "attachments": {},
   "cell_type": "markdown",
   "metadata": {},
   "source": [
    "**Задание №3**"
   ]
  },
  {
   "attachments": {},
   "cell_type": "markdown",
   "metadata": {},
   "source": [
    "Создать 5 экземпляров класса **Студент ПИ22-3**. "
   ]
  },
  {
   "cell_type": "code",
   "execution_count": 79,
   "metadata": {},
   "outputs": [],
   "source": [
    "stud_1 = StudentPI22_3(\"Трунов Иван Маркович\", 1, [3, 4, 5, 3, 4], 6)\n",
    "stud_2 = StudentPI22_3(\"Кукин Максим Юрьевич\", 1, [5, 4, 5, 5, 4], 4)\n",
    "stud_3 = StudentPI22_3(\"Морозова Алёна Юрьевна\", 1, [4, 2, 5, 4, 4], 5)\n",
    "stud_4 = StudentPI22_3(\"Клявляев Дамир Ренатович\", 1, [5, 4, 5, 4, 5], 3)\n",
    "stud_5 = StudentPI22_3(\"Исмаилов Мир Гасан Хафизович\", 1, [4, 5, 5, 4, 5], 1)"
   ]
  },
  {
   "attachments": {},
   "cell_type": "markdown",
   "metadata": {},
   "source": [
    "**Задание №4**"
   ]
  },
  {
   "attachments": {},
   "cell_type": "markdown",
   "metadata": {},
   "source": [
    "Вывести список студентов."
   ]
  },
  {
   "cell_type": "code",
   "execution_count": 80,
   "metadata": {},
   "outputs": [
    {
     "name": "stdout",
     "output_type": "stream",
     "text": [
      "1 ФИО: Трунов Иван Маркович | Курс: 1 | Оценки: 3 4 5 3 4 | Номер команды: 6\n",
      "2 ФИО: Кукин Максим Юрьевич | Курс: 1 | Оценки: 5 4 5 5 4 | Номер команды: 4\n",
      "3 ФИО: Морозова Алёна Юрьевна | Курс: 1 | Оценки: 4 2 5 4 4 | Номер команды: 5\n",
      "4 ФИО: Клявляев Дамир Ренатович | Курс: 1 | Оценки: 5 4 5 4 5 | Номер команды: 3\n",
      "5 ФИО: Исмаилов Мир Гасан Хафизович | Курс: 1 | Оценки: 4 5 5 4 5 | Номер команды: 1\n"
     ]
    }
   ],
   "source": [
    "viv = [stud_1, stud_2, stud_3, stud_4, stud_5]\n",
    "for i, Student in enumerate(viv):\n",
    "    print(i + 1, \"ФИО: \" + Student.name, \"|\", \"Курс:\", Student.course, \"|\", \"Оценки:\", *Student.estimation, \"|\", \"Номер команды:\", Student.num_t)"
   ]
  },
  {
   "attachments": {},
   "cell_type": "markdown",
   "metadata": {},
   "source": [
    "**Задание №5**"
   ]
  },
  {
   "attachments": {},
   "cell_type": "markdown",
   "metadata": {},
   "source": [
    "Осуществить сортировку по имени (номеру команды)"
   ]
  },
  {
   "cell_type": "code",
   "execution_count": 81,
   "metadata": {},
   "outputs": [
    {
     "name": "stdout",
     "output_type": "stream",
     "text": [
      "ФИО: {'Исмаилов Мир Гасан Хафизович'} Номер Группы: {1}\n",
      "ФИО: {'Клявляев Дамир Ренатович'} Номер Группы: {3}\n",
      "ФИО: {'Кукин Максим Юрьевич'} Номер Группы: {4}\n",
      "ФИО: {'Морозова Алёна Юрьевна'} Номер Группы: {5}\n",
      "ФИО: {'Трунов Иван Маркович'} Номер Группы: {6}\n"
     ]
    }
   ],
   "source": [
    "\n",
    "\n",
    "SS = sorted(viv, key=lambda S: (S.name.lower(), S.num_t))\n",
    "for S in SS:\n",
    "    print(\"ФИО:\", {S.name}, \"Номер Группы:\", {S.num_t})\n"
   ]
  },
  {
   "attachments": {},
   "cell_type": "markdown",
   "metadata": {},
   "source": [
    "**Задание №6**"
   ]
  },
  {
   "attachments": {},
   "cell_type": "markdown",
   "metadata": {},
   "source": [
    "Вывести всех студентов, у которых имеются неудовлетворительные оценки. "
   ]
  },
  {
   "cell_type": "code",
   "execution_count": 90,
   "metadata": {},
   "outputs": [
    {
     "name": "stdout",
     "output_type": "stream",
     "text": [
      "Трунов Иван Маркович\n",
      "Морозова Алёна Юрьевна\n"
     ]
    }
   ],
   "source": [
    "for i in range(len(viv)):\n",
    "    if min(viv[i].estimation)==2 or min(viv[i].estimation)==3:\n",
    "        print(viv[i].name)"
   ]
  },
  {
   "attachments": {},
   "cell_type": "markdown",
   "metadata": {},
   "source": [
    "# Задание на рекурсивное программирование"
   ]
  },
  {
   "cell_type": "markdown",
   "metadata": {},
   "source": [
    "**Задание №1**"
   ]
  },
  {
   "attachments": {},
   "cell_type": "markdown",
   "metadata": {},
   "source": [
    "**Задание №2**"
   ]
  },
  {
   "cell_type": "code",
   "execution_count": 1,
   "metadata": {},
   "outputs": [
    {
     "name": "stdout",
     "output_type": "stream",
     "text": [
      "1  \n",
      "1  1  \n",
      "1  2  1  \n",
      "1  3  3  1  \n",
      "1  4  6  4  1  \n",
      "1  5  10  10  5  1  \n",
      "1  6  15  20  15  6  1  \n"
     ]
    }
   ],
   "source": [
    "def PP(M) :\n",
    "    for i in range(0, M) :\n",
    "        for j in range(0, i + 1) :\n",
    "            print(Vozvedenie(i, j),\" \", end = \"\")\n",
    "        print()\n",
    "def Vozvedenie(M, k) :\n",
    "    res = 1\n",
    "    if (k > M - k) :\n",
    "        k = M - k\n",
    "    for r in range(0 , k) :\n",
    "        res = res * (M - r)\n",
    "        res = res // (r + 1)\n",
    "    return res\n",
    "M = 7\n",
    "PP(M)"
   ]
  }
 ],
 "metadata": {
  "kernelspec": {
   "display_name": "Python 3",
   "language": "python",
   "name": "python3"
  },
  "language_info": {
   "codemirror_mode": {
    "name": "ipython",
    "version": 3
   },
   "file_extension": ".py",
   "mimetype": "text/x-python",
   "name": "python",
   "nbconvert_exporter": "python",
   "pygments_lexer": "ipython3",
   "version": "3.11.2"
  },
  "orig_nbformat": 4
 },
 "nbformat": 4,
 "nbformat_minor": 2
}
