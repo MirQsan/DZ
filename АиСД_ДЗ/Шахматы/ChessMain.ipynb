{
 "cells": [
  {
   "cell_type": "code",
   "execution_count": null,
   "metadata": {},
   "outputs": [],
   "source": [
    "\"\"\"\n",
    "This is our main driver file. It will be responsible for handling user input and displaying the current GameState object\n",
    "\"\"\"\n",
    "\n",
    "import pygame as p\n",
    "from Chess import ChessEngine\n",
    "\n",
    "WIDTH = HEIGHT = 512 #400 is another option\n",
    "DIMENSION = 8 #dimensions of a chess board are 8x8\n",
    "SQ_SIZE = HEIGHT // DIMENSION\n",
    "MAX_FPS = 15#for animations later on\n",
    "IMAGES = {}\n",
    "\n",
    "\"\"\"\n",
    "Initialize a global dictionary of images. This will be called exactly once in the main\n",
    "\"\"\"\n",
    "def loadImages ():\n",
    "    IMAGES['wp'] = p.image.load(\"images/up.|)\n",
    "    \n",
    "    \n",
    "    \n",
    "    \n",
    "    \n",
    "    \n",
    "    \n",
    "    "
   ]
  }
 ],
 "metadata": {
  "kernelspec": {
   "display_name": "Python 3",
   "language": "python",
   "name": "python3"
  },
  "language_info": {
   "codemirror_mode": {
    "name": "ipython",
    "version": 3
   },
   "file_extension": ".py",
   "mimetype": "text/x-python",
   "name": "python",
   "nbconvert_exporter": "python",
   "pygments_lexer": "ipython3",
   "version": "3.11.1"
  },
  "orig_nbformat": 4,
  "vscode": {
   "interpreter": {
    "hash": "0de6bac5783c631c6d9ce213cd07c850c0d5af614420fbca182ab1ec47feb25e"
   }
  }
 },
 "nbformat": 4,
 "nbformat_minor": 2
}
