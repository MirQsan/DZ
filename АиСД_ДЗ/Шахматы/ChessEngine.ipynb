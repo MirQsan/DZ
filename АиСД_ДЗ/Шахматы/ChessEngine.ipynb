{
 "cells": [
  {
   "cell_type": "code",
   "execution_count": null,
   "metadata": {},
   "outputs": [],
   "source": [
    "\"\"\"\n",
    "This class is responsible for storing all the information about the current state of a chess game. It will akso be responsible for determining the valid moves at the current state. It will also keep a move log.\n",
    "\"\"\"\n",
    "\n",
    "class GameState():\n",
    "    def __init__(self):\n",
    "        #board is an 8x8 2d list, each element of the list has 2 characters\n",
    "        #The first character represents the color of the piece, 'b' or 'w'\n",
    "        #The second character represents the type of tghe piece, 'K', 'Q', 'R', 'B', 'N' or 'P'\n",
    "        #\"--\" - represents an empty space with no piece.\n",
    "        self.board = [\n",
    "            [\"bR\", \"bN\", \"bB\", \"bQ\", \"bK\", \"bB\", \"bN\", \"bR\"],\n",
    "            [\"bp\", \"bp\", \"bp\", \"bp\", \"bp\", \"bp\", \"bp\", \"bp\"],\n",
    "            [\"--\", \"--\", \"--\", \"--\", \"--\", \"--\", \"--\", \"--\"],\n",
    "            [\"--\", \"--\", \"--\", \"--\", \"--\", \"--\", \"--\", \"--\"],\n",
    "            [\"--\", \"--\", \"--\", \"--\", \"--\", \"--\", \"--\", \"--\"],\n",
    "            [\"--\", \"--\", \"--\", \"--\", \"--\", \"--\", \"--\", \"--\"],\n",
    "            [\"wp\", \"wp\", \"wp\", \"wp\", \"wp\", \"wp\", \"wp\", \"wp\"],\n",
    "            [\"wR\", \"wN\", \"wB\", \"wQ\", \"wK\", \"wB\", \"wN\", \"wR\"]]\n",
    "        self.whiteToMove = True\n",
    "        self.movelog = []"
   ]
  }
 ],
 "metadata": {
  "kernelspec": {
   "display_name": "Python 3",
   "language": "python",
   "name": "python3"
  },
  "language_info": {
   "name": "python",
   "version": "3.11.1"
  },
  "orig_nbformat": 4,
  "vscode": {
   "interpreter": {
    "hash": "0de6bac5783c631c6d9ce213cd07c850c0d5af614420fbca182ab1ec47feb25e"
   }
  }
 },
 "nbformat": 4,
 "nbformat_minor": 2
}
